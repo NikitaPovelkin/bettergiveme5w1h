{
 "cells": [
  {
   "cell_type": "markdown",
   "id": "6297e870",
   "metadata": {},
   "source": [
    "# Evaluation\n",
    "\n",
    "__Insgesamt angeguckte Beispiele__: 100"
   ]
  },
  {
   "cell_type": "markdown",
   "id": "6cf104b0",
   "metadata": {},
   "source": [
    "### Meine Verbesserungen:\n",
    "__Antworten insgesamt__: 100\n",
    "\n",
    "__Falsch__: 8 \\\n",
    "__Richtig__:\n",
    "- Perfekt: 74 \n",
    "- Okay - says/tells: 3 \n",
    "- Okay - zu kurze Antwort: 9 \n",
    "- Okay - zu lange Antwort: 4 \n",
    "- Okay - richtige Antwort, aber als correference: 2 "
   ]
  },
  {
   "cell_type": "markdown",
   "id": "2a32e787",
   "metadata": {},
   "source": [
    "### Meine verbesserungen im Vergleich zur initialen Einstellung\n",
    "\n",
    "__Antworten insgesamt__: 21\n",
    "\n",
    "__Bessere Antwort__: 76 \\\n",
    "__Gleiche Antwort__:\n",
    "- Beide Antworten waren richtig: 15\n",
    "- Beide Antworten waren falsch: 6\n",
    "\n",
    "__Schlechtere Antwort__: 3"
   ]
  },
  {
   "cell_type": "markdown",
   "id": "8aa8ee48",
   "metadata": {},
   "source": [
    "### Meine verbesserungen im Vergleich zur initialen Einstellung\n",
    "\n",
    "__Antworten insgesamt__: 72\n",
    "\n",
    "__Bessere Antwort__: 34 \\\n",
    "__Gleiche Antwort__:\n",
    "- Beide Antworten waren richtig: 55\n",
    "- Beide Antworten waren falsch: 6\n",
    "\n",
    "__Schlechtere Antwort__: 5"
   ]
  }
 ],
 "metadata": {
  "kernelspec": {
   "display_name": "Python 3 (ipykernel)",
   "language": "python",
   "name": "python3"
  },
  "language_info": {
   "codemirror_mode": {
    "name": "ipython",
    "version": 3
   },
   "file_extension": ".py",
   "mimetype": "text/x-python",
   "name": "python",
   "nbconvert_exporter": "python",
   "pygments_lexer": "ipython3",
   "version": "3.9.12"
  }
 },
 "nbformat": 4,
 "nbformat_minor": 5
}
